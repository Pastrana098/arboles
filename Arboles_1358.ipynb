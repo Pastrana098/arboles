{
  "nbformat": 4,
  "nbformat_minor": 0,
  "metadata": {
    "colab": {
      "name": "Arboles_1358.ipynb",
      "provenance": [],
      "collapsed_sections": []
    },
    "kernelspec": {
      "name": "python3",
      "display_name": "Python 3"
    },
    "language_info": {
      "name": "python"
    }
  },
  "cells": [
    {
      "cell_type": "code",
      "metadata": {
        "id": "mxM8ltpltp5g"
      },
      "source": [
        "class BinaryNode:\n",
        "    def __init__( self , values , left=None , right=None ):\n",
        "        self.data = values\n",
        "        self.left = left\n",
        "        self.right = right\n",
        "\n",
        "class TernaryNode:\n",
        "    def __init__( self , values , left=None , center=None , right=None ):\n",
        "        self.data = values\n",
        "        self.left = left\n",
        "        self.center = center\n",
        "        self.right = right"
      ],
      "execution_count": null,
      "outputs": []
    },
    {
      "cell_type": "code",
      "metadata": {
        "colab": {
          "base_uri": "https://localhost:8080/"
        },
        "id": "_E79O9u7vGVD",
        "outputId": "b6136b23-1e40-481f-80a8-53b2f38a0e34"
      },
      "source": [
        "root = BinaryNode(\"R\",BinaryNode(\"C\"),BinaryNode(\"H\"))\n",
        "print( root.left.data )\n"
      ],
      "execution_count": null,
      "outputs": [
        {
          "output_type": "stream",
          "name": "stdout",
          "text": [
            "C\n"
          ]
        }
      ]
    },
    {
      "cell_type": "code",
      "metadata": {
        "colab": {
          "base_uri": "https://localhost:8080/"
        },
        "id": "ac9Vkh2qwM0c",
        "outputId": "05a7c104-6898-4813-c02e-34596d545357"
      },
      "source": [
        "root = TernaryNode(4,TernaryNode(3,TernaryNode(5,left=TernaryNode(2)),\\\n",
        "                  TernaryNode(5),TernaryNode(2)), None, TernaryNode(5) )\n",
        "print(root.left.left.left.data)\n",
        "print(\".-.-.-.-.-.-.-.-\")\n",
        "aux = root\n",
        "while aux.left !=None:\n",
        "    aux = aux.left\n",
        "print(aux.data)\n",
        "print(\".-.-.-.-.-.-.-.-\")\n",
        "print(root.left.right.data)"
      ],
      "execution_count": null,
      "outputs": [
        {
          "output_type": "stream",
          "name": "stdout",
          "text": [
            "2\n",
            ".-.-.-.-.-.-.-.-\n",
            "2\n",
            ".-.-.-.-.-.-.-.-\n",
            "2\n"
          ]
        }
      ]
    },
    {
      "cell_type": "code",
      "metadata": {
        "colab": {
          "base_uri": "https://localhost:8080/"
        },
        "id": "TMG04dfk5lNN",
        "outputId": "708cb551-3d10-46fa-d008-bec0d16515d4"
      },
      "source": [
        "root = BinaryNode(\"Santi\",None,\\\n",
        "                  BinaryNode(\"Jesus\",BinaryNode(\"Pedro\",None,BinaryNode(\"Pedro jr.\"))))\n",
        "print(root.right.left.right.data)"
      ],
      "execution_count": null,
      "outputs": [
        {
          "output_type": "stream",
          "name": "stdout",
          "text": [
            "Pedro jr.\n"
          ]
        }
      ]
    }
  ]
}